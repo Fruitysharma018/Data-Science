{
 "cells": [
  {
   "cell_type": "markdown",
   "id": "5900fd0f-e8f2-492b-86a3-c3c53cf5d349",
   "metadata": {},
   "source": [
    "#DATA SCIENCE TOOLS WITH ECOSYSTEM"
   ]
  },
  {
   "cell_type": "markdown",
   "id": "c7155630-e7ef-409d-ad55-3f5d7ece77e4",
   "metadata": {},
   "source": [
    "In this notebook, Data Science Tools and Ecosystem are summarized."
   ]
  },
  {
   "cell_type": "markdown",
   "id": "99aa5b0e-a91a-4ab3-ad3d-acbdf5dbe386",
   "metadata": {},
   "source": [
    "Some of the popular languages that Data Scientists use are:"
   ]
  },
  {
   "cell_type": "markdown",
   "id": "c0e90456-a293-4962-aa0b-952ac871282c",
   "metadata": {},
   "source": [
    "1. Python  \n",
    "2. R  \n",
    "3. SQL\n",
    "4. Julia\n"
   ]
  },
  {
   "cell_type": "markdown",
   "id": "218eec60-96d2-40af-a722-7b30e79ac561",
   "metadata": {},
   "source": [
    "Some of the commonly used libraries used by Data Scientists include:\n",
    "\n",
    "1. NumPy  \n",
    "2. Pandas  \n",
    "3. Matplotlib  \n",
    "4. Seaborn  \n",
    "5. Scikit-learn  \n",
    "6. TensorFlow  \n",
    "7. Keras  \n",
    "8. PyTorch  \n",
    "9. SciPy  \n",
    "10. Statsmodels\n"
   ]
  },
  {
   "cell_type": "markdown",
   "id": "a6a67140-d87d-4c83-94a6-d8025e9dacdf",
   "metadata": {},
   "source": [
    "Some of the commonly used tools are:\n",
    "\n",
    "|Data Science Tools|\n",
    "|------------------|\n",
    "|Jupyter Notebook|\n",
    "|RStudio|\n",
    "|Spyder|\n",
    "|Git|"
   ]
  },
  {
   "cell_type": "markdown",
   "id": "9b86382e-4a61-4463-96fa-379d8b92fdba",
   "metadata": {},
   "source": [
    "Arithmetic expressions are used to perform mathematical operations such as addition, subtraction, multiplication, and division.  \n",
    "Below is an example table showing a few arithmetic expressions and their results:\n",
    "\n",
    "| Expression | Description          | Example Result |\n",
    "|-------------|----------------------|----------------|\n",
    "| a + b       | Addition             | 5 + 3 = 8      |\n",
    "| a - b       | Subtraction          | 5 - 3 = 2      |\n",
    "| a * b       | Multiplication       | 5 * 3 = 15     |\n",
    "| a / b       | Division             | 6 / 3 = 2      |\n"
   ]
  },
  {
   "cell_type": "markdown",
   "id": "fb0ffe30-6ec7-4cf8-a361-0684d44f1f45",
   "metadata": {},
   "source": [
    "This a simple arithmetic expression to mutiply then add integers\n"
   ]
  },
  {
   "cell_type": "code",
   "execution_count": null,
   "id": "f9071113-6c68-4081-88b3-9b1319553dc3",
   "metadata": {},
   "outputs": [],
   "source": [
    "(3*4)+5"
   ]
  },
  {
   "cell_type": "code",
   "execution_count": null,
   "id": "84557d1d-1d72-40e9-bda5-883f8fde22fa",
   "metadata": {},
   "outputs": [],
   "source": [
    "minutes = 150\n",
    "hours = minutes / 60\n",
    "#This will convert 200 minutes to hours by diving by 60\n",
    "\n",
    "\n",
    "\n",
    "print(f\"{minutes} minutes is equal to {hours} hours\")\n"
   ]
  },
  {
   "cell_type": "markdown",
   "id": "932271bc-870c-4f69-a0b1-5adf50243d3d",
   "metadata": {},
   "source": [
    "List popular languages for Data Science\n",
    "\n",
    "1. Python  \n",
    "2. R  \n",
    "3. SQL  \n",
    "4. Julia  \n",
    "5. Scala  \n",
    "6. Java  \n",
    "7. MATLAB  \n",
    "8. C/C++  \n"
   ]
  },
  {
   "cell_type": "markdown",
   "id": "b4bef614-0fb5-4c12-84c0-173c9735459b",
   "metadata": {},
   "source": [
    "## Author\n",
    "Data Scientist\n"
   ]
  }
 ],
 "metadata": {
  "kernelspec": {
   "display_name": "Python [conda env:base] *",
   "language": "python",
   "name": "conda-base-py"
  },
  "language_info": {
   "codemirror_mode": {
    "name": "ipython",
    "version": 3
   },
   "file_extension": ".py",
   "mimetype": "text/x-python",
   "name": "python",
   "nbconvert_exporter": "python",
   "pygments_lexer": "ipython3",
   "version": "3.12.7"
  }
 },
 "nbformat": 4,
 "nbformat_minor": 5
}
